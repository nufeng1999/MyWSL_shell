{
 "cells": [
  {
   "cell_type": "code",
   "execution_count": 1,
   "metadata": {},
   "outputs": [
    {
     "data": {
      "text/plain": [
       "[MyBash Kernel] Info:copy to :/root/WSL/MyWSL_shell/ipydn/../../WSL_GNOME/wslfcitx.sh\n"
      ]
     },
     "metadata": {
      "text/plain": {}
     },
     "output_type": "display_data"
    },
    {
     "data": {
      "text/plain": [
       "[MyBash Kernel] Info:copy to :/root/WSL/MyWSL_shell/ipydn/../../wsl_XWin_Cygwin/wslfcitx.sh\n"
      ]
     },
     "metadata": {
      "text/plain": {}
     },
     "output_type": "display_data"
    },
    {
     "data": {
      "text/plain": [
       "[MyBash Kernel] Info:file /root/WSL/MyWSL_shell/ipydn/src/wslfcitx.sh created successfully\n"
      ]
     },
     "metadata": {
      "text/plain": {}
     },
     "output_type": "display_data"
    }
   ],
   "source": [
    "##%noruncode\n",
    "##%overwritefile\n",
    "##%file:src/wslfcitx.sh\n",
    "##%file:../../WSL_GNOME/wslfcitx.sh\n",
    "##%file:../../wsl_XWin_Cygwin/wslfcitx.sh\n",
    "#!/bin/bash\n",
    "#export DISPLAY=127.0.0.1:0.0\n",
    "\n",
    "PROC_NAME=fcitx\n",
    "ProcNumber=`ps -ef |grep -w $PROC_NAME|grep -v grep|wc -l`\n",
    "if [ $ProcNumber -le 0 ];then\n",
    "\texport NO_AT_BRIDGE=1\n",
    "\texport LC_CTYPE=zh_CN.UTF-8\n",
    "\texport XMODIFIERS=@im=fcitx\n",
    "\texport GTK_IM_MODULE=fcitx\n",
    "\texport QT_IM_MODULE=fcitx\n",
    "\t#cd /mnt/h/ISwitch\n",
    "\t#./ISwitch.exe -c &\n",
    "\tcd\n",
    "\t/usr/bin/fcitx -d -r >/dev/null 2>&1 &\n",
    "fi\n",
    "\n"
   ]
  }
 ],
 "metadata": {
  "kernelspec": {
   "display_name": "MyBash",
   "language": "shell",
   "name": "mybash"
  },
  "language_info": {
   "file_extension": ".sh",
   "mimetype": "text/x-shellscript",
   "name": "shellscript"
  },
  "orig_nbformat": 4
 },
 "nbformat": 4,
 "nbformat_minor": 2
}
