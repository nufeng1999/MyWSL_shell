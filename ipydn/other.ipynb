{
 "cells": [
  {
   "cell_type": "code",
   "execution_count": 1,
   "metadata": {},
   "outputs": [
    {
     "data": {
      "text/plain": [
       "[MyBash Kernel] Info:copy to :/root/WSL/MyWSL_shell/ipydn/../../WSL_GNOME/restartudev.sh\n"
      ]
     },
     "metadata": {
      "text/plain": {}
     },
     "output_type": "display_data"
    },
    {
     "data": {
      "text/plain": [
       "[MyBash Kernel] Info:copy to :/root/WSL/MyWSL_shell/ipydn/../../wsl_XWin_Cygwin/restartudev.sh\n"
      ]
     },
     "metadata": {
      "text/plain": {}
     },
     "output_type": "display_data"
    },
    {
     "data": {
      "text/plain": [
       "[MyBash Kernel] Info:file /root/WSL/MyWSL_shell/ipydn/src/restartudev.sh created successfully\n"
      ]
     },
     "metadata": {
      "text/plain": {}
     },
     "output_type": "display_data"
    }
   ],
   "source": [
    "##%noruncode\n",
    "##%overwritefile\n",
    "##%file:src/restartudev.sh\n",
    "##%file:../../WSL_GNOME/restartudev.sh\n",
    "##%file:../../wsl_XWin_Cygwin/restartudev.sh\n",
    "#! /bin/bash\n",
    "service udev restart\n",
    "udevadm control --reload-rules\n",
    "udevadm trigger"
   ]
  },
  {
   "cell_type": "code",
   "execution_count": 2,
   "metadata": {},
   "outputs": [
    {
     "data": {
      "text/plain": [
       "[MyBash Kernel] Info:copy to :/root/WSL/MyWSL_shell/ipydn/../../WSL_GNOME/00-wsl2-systemd.sh\n"
      ]
     },
     "metadata": {
      "text/plain": {}
     },
     "output_type": "display_data"
    },
    {
     "data": {
      "text/plain": [
       "[MyBash Kernel] Info:copy to :/root/WSL/MyWSL_shell/ipydn/../../wsl_XWin_Cygwin/00-wsl2-systemd.sh\n"
      ]
     },
     "metadata": {
      "text/plain": {}
     },
     "output_type": "display_data"
    },
    {
     "data": {
      "text/plain": [
       "[MyBash Kernel] Info:file /root/WSL/MyWSL_shell/ipydn/src/00-wsl2-systemd.sh created successfully\n"
      ]
     },
     "metadata": {
      "text/plain": {}
     },
     "output_type": "display_data"
    }
   ],
   "source": [
    "##%noruncode\n",
    "##%overwritefile\n",
    "##%file:src/00-wsl2-systemd.sh\n",
    "##%file:../../WSL_GNOME/00-wsl2-systemd.sh\n",
    "##%file:../../wsl_XWin_Cygwin/00-wsl2-systemd.sh\n",
    "#! /bin/bash\n",
    "#export WAYLAND_DISPLAY=wayland-0\n",
    "#export DISPLAY=:0\n",
    "/mnt/c/WINDOWS/System32/cmd.exe /c \"C:\\\\XWin_Cygwin.cmd 1\" > /dev/null 2>&1 &\n",
    "SYSTEMD_PID=$(ps -ef | grep '/lib/systemd/systemd --system-unit=basic.target$' | grep -v unshare | awk '{print $2}')\n",
    "\n",
    "if [ -z \"$SYSTEMD_PID\" ]; then\n",
    "   sudo /usr/bin/daemonize /usr/bin/unshare --fork --pid --mount-proc /lib/systemd/systemd --system-unit=basic.target\n",
    "   SYSTEMD_PID=$(ps -ef | grep '/lib/systemd/systemd --system-unit=basic.target$' | grep -v unshare | awk '{print $2}')\n",
    "fi\n",
    "\n",
    "if [ -n \"$SYSTEMD_PID\" ] && [ \"$SYSTEMD_PID\" != \"1\" ]; then\n",
    "    exec sudo /usr/bin/nsenter -t $SYSTEMD_PID -m -p su - $LOGNAME\n",
    "fi\n"
   ]
  }
 ],
 "metadata": {
  "kernelspec": {
   "display_name": "MyBash",
   "language": "shell",
   "name": "mybash"
  },
  "language_info": {
   "file_extension": ".sh",
   "mimetype": "text/x-shellscript",
   "name": "shellscript"
  },
  "orig_nbformat": 4
 },
 "nbformat": 4,
 "nbformat_minor": 2
}
