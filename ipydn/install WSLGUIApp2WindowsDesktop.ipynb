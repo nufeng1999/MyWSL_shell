{
 "cells": [
  {
   "cell_type": "code",
   "execution_count": null,
   "metadata": {},
   "outputs": [],
   "source": [
    "##%noruncode\n",
    "##%overwritefile\n",
    "##%file:src/install3.sh\n",
    "##%file:../../WSLGUIApp2WindowsDesktop/install.sh\n",
    "#!/bin/bash\n",
    "cd ./libshell\n",
    ". shell-ini-config\n",
    "cd ..\n",
    "#create wslappicons dir\n",
    "mkdir -p /mnt/c/PROGRA~1/wslapps/icons\n",
    "mkdir -p /mnt/c/PROGRA~1/wslapps/shortcut\n",
    "shortcutpath=\"C:\\\\PROGRA~1\\\\wslapps\\\\shortcut\"\n",
    "mkdir -p \"/mnt/c/ProgramData/Microsoft/Windows/Start Menu/Programs/WSLApps\"\n",
    "startshortcutpath=\"C:\\\\ProgramData\\\\Microsoft\\\\Windows\\\\STARTM~1\\\\Programs\\\\WSLApps\"\n",
    "cp -f $PWD/icons/* /mnt/c/Progra~1/wslapps/icons\n",
    "\n",
    "inifile=\"./apps.ini\"\n",
    "wintemp=`/mnt/c/WINDOWS/System32/cmd.exe /c \"echo %TEMP%\" 2>/dev/null|head -n 1 |tail -n 1`\n",
    "#winwsltemp=${winwsltemp//$'\\r'}\n",
    "#winwsltemp=${winwsltemp//$'\\n'}\n",
    "wintemp=${wintemp//$'\\r'}\n",
    "wintemp=${wintemp//$'\\n'}\n",
    "winwsltemp=`wslpath -u $wintemp`\n",
    "mkshortcutvbsfile=`echo $winwsltemp/mkshortcut.vbs`\n",
    "cp $PWD/mkshortcut.vbs $mkshortcutvbsfile\n",
    "\n",
    "appcout=$(ini_config_get \"$inifile\" \"apps\" \"appcout\")\n",
    "echo \"$appcout\"\n",
    "cnt1=1\n",
    "#appcout=1\n",
    "appcout=$(($appcout+1))\n",
    "while [ $cnt1 -lt $appcout ]; do\n",
    "    echo read $cnt1\n",
    "    shortcut=$(ini_config_get \"$inifile\" \"$cnt1\" \"shortcut\")\n",
    "    ishortcut=\"${shortcutpath}\\\\${shortcut}\"\n",
    "    startshortcut=\"${startshortcutpath}\\\\${shortcut}\"\n",
    "    target=$(ini_config_get \"$inifile\" \"$cnt1\" \"target\")\n",
    "    icon=$(ini_config_get \"$inifile\" \"$cnt1\" \"icon\")\n",
    "    description=$(ini_config_get \"$inifile\" \"$cnt1\" \"description\")\n",
    "    workdir=$(ini_config_get \"$inifile\" \"$cnt1\" \"workdir\")\n",
    "    arguments=$(ini_config_get \"$inifile\" \"$cnt1\" \"arguments\")\n",
    "\n",
    "    cnt1=$(($cnt1+1))\n",
    "    appshortcut=\"/shortcut:\\\"$ishortcut\\\" /target:\\\"$target\\\" /icon:\\\"$icon\\\" /description:\\\"$description\\\" /workdir:\\\"$workdir\\\" /arguments:\\\"$arguments\\\"\"\n",
    "    startappshortcut=\"/shortcut:\\\"$startshortcut\\\" /target:\\\"$target\\\" /icon:\\\"$icon\\\" /description:\\\"$description\\\" /workdir:\\\"$workdir\\\" /arguments:\\\"$arguments\\\"\"\n",
    "    /mnt/c/WINDOWS/System32/ScriptRunner.exe  -appvscript $wintemp\\\\mkshortcut.vbs $appshortcut\n",
    "    /mnt/c/WINDOWS/System32/ScriptRunner.exe  -appvscript $wintemp\\\\mkshortcut.vbs $startappshortcut\n",
    "done\n",
    "\n",
    "\n"
   ]
  },
  {
   "cell_type": "code",
   "execution_count": null,
   "metadata": {},
   "outputs": [],
   "source": []
  }
 ],
 "metadata": {
  "kernelspec": {
   "display_name": "MyBash",
   "language": "shell",
   "name": "mybash"
  },
  "language_info": {
   "file_extension": ".sh",
   "mimetype": "text/x-shellscript",
   "name": "shellscript"
  },
  "orig_nbformat": 4
 },
 "nbformat": 4,
 "nbformat_minor": 2
}
