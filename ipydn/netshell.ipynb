{
 "cells": [
  {
   "cell_type": "code",
   "execution_count": 1,
   "metadata": {},
   "outputs": [
    {
     "data": {
      "text/plain": [
       "[MyBash Kernel] Info:copy to :/root/WSL/MyWSL_shell/ipydn/../../WSL_GNOME/restartudev.sh\n"
      ]
     },
     "metadata": {
      "text/plain": {}
     },
     "output_type": "display_data"
    },
    {
     "data": {
      "text/plain": [
       "[MyBash Kernel] Info:copy to :/root/WSL/MyWSL_shell/ipydn/../../wsl_XWin_Cygwin/restartudev.sh\n"
      ]
     },
     "metadata": {
      "text/plain": {}
     },
     "output_type": "display_data"
    },
    {
     "data": {
      "text/plain": [
       "[MyBash Kernel] Info:file /root/WSL/MyWSL_shell/ipydn/src/restartudev.sh created successfully\n"
      ]
     },
     "metadata": {
      "text/plain": {}
     },
     "output_type": "display_data"
    }
   ],
   "source": [
    "##%noruncode\n",
    "##%overwritefile\n",
    "##%file:src/restartudev.sh\n",
    "##%file:../../WSL_GNOME/restartudev.sh\n",
    "##%file:../../wsl_XWin_Cygwin/restartudev.sh\n",
    "#! /bin/bash\n",
    "service udev restart\n",
    "udevadm control --reload-rules\n",
    "udevadm trigger"
   ]
  },
  {
   "cell_type": "code",
   "execution_count": 2,
   "metadata": {},
   "outputs": [
    {
     "data": {
      "text/plain": [
       "[MyBash Kernel] Info:copy to :/root/WSL/MyWSL_shell/ipydn/../../WSL_GNOME/setproxy.sh\n"
      ]
     },
     "metadata": {
      "text/plain": {}
     },
     "output_type": "display_data"
    },
    {
     "data": {
      "text/plain": [
       "[MyBash Kernel] Info:copy to :/root/WSL/MyWSL_shell/ipydn/../../wsl_XWin_Cygwin/setproxy.sh\n"
      ]
     },
     "metadata": {
      "text/plain": {}
     },
     "output_type": "display_data"
    },
    {
     "data": {
      "text/plain": [
       "[MyBash Kernel] Info:file /root/WSL/MyWSL_shell/ipydn/src/setproxy.sh created successfully\n"
      ]
     },
     "metadata": {
      "text/plain": {}
     },
     "output_type": "display_data"
    }
   ],
   "source": [
    "##%noruncode\n",
    "##%overwritefile\n",
    "##%file:src/setproxy.sh\n",
    "##%file:../../WSL_GNOME/setproxy.sh\n",
    "##%file:../../wsl_XWin_Cygwin/setproxy.sh\n",
    "#!/bin/sh\n",
    "export HOSTIP=$(ip route | awk '/^default/{print $3; exit}')\n",
    "export DISPLAY=$HOSTIP:0.0\n",
    "export PULSE_SERVER=tcp:$HOSTIP\n",
    "\n",
    "export HTTPPROXY=http://$HOSTIP:1080\n",
    "\n",
    "npm config set proxy $HTTPPROXY\n",
    "npm config set https-proxy $HTTPPROXY\n",
    "\n",
    "git config --global http.proxy $HTTPPROXY\n",
    "git config --global https.proxy $HTTPPROXY\n",
    "export https_proxy=$HTTPPROXY\n",
    "export http_proxy=$HTTPPROXY\n",
    "export ftp_proxy=$HTTPPROXY\n",
    "export use_proxy=on\n",
    "#export wait=15\n",
    "gsettings set org.gnome.system.proxy.http host http://$HOSTIP\n",
    "gsettings set org.gnome.system.proxy.http port 1080\n",
    "gsettings set org.gnome.system.proxy.https host http://$HOSTIP\n",
    "gsettings set org.gnome.system.proxy.https port 1080\n",
    "gsettings set org.gnome.system.proxy.ftp host http://$HOSTIP\n",
    "gsettings set org.gnome.system.proxy.ftp port 1080\n"
   ]
  },
  {
   "cell_type": "code",
   "execution_count": 3,
   "metadata": {},
   "outputs": [
    {
     "data": {
      "text/plain": [
       "[MyBash Kernel] Info:copy to :/root/WSL/MyWSL_shell/ipydn/../../WSL_GNOME/unsetproxy.sh\n"
      ]
     },
     "metadata": {
      "text/plain": {}
     },
     "output_type": "display_data"
    },
    {
     "data": {
      "text/plain": [
       "[MyBash Kernel] Info:copy to :/root/WSL/MyWSL_shell/ipydn/../../wsl_XWin_Cygwin/unsetproxy.sh\n"
      ]
     },
     "metadata": {
      "text/plain": {}
     },
     "output_type": "display_data"
    },
    {
     "data": {
      "text/plain": [
       "[MyBash Kernel] Info:file /root/WSL/MyWSL_shell/ipydn/src/unsetproxy.sh created successfully\n"
      ]
     },
     "metadata": {
      "text/plain": {}
     },
     "output_type": "display_data"
    }
   ],
   "source": [
    "##%noruncode\n",
    "##%overwritefile\n",
    "##%file:src/unsetproxy.sh\n",
    "##%file:../../WSL_GNOME/unsetproxy.sh\n",
    "##%file:../../wsl_XWin_Cygwin/unsetproxy.sh\n",
    "#!/bin/sh\n",
    "git config --global --unset http.proxy \n",
    "git config --global --unset https.proxy\n",
    "npm config delete proxy\n",
    "npm config delete https-proxy\n",
    "\n",
    "export use_proxy=off\n",
    "export https_proxy=\n",
    "export http_proxy=\n",
    "export ftp_proxy=\n",
    "\n"
   ]
  },
  {
   "cell_type": "code",
   "execution_count": 4,
   "metadata": {},
   "outputs": [
    {
     "data": {
      "text/plain": [
       "[MyBash Kernel] Info:copy to :/root/WSL/MyWSL_shell/ipydn/../../WSL_GNOME/runv4tov4.sh\n"
      ]
     },
     "metadata": {
      "text/plain": {}
     },
     "output_type": "display_data"
    },
    {
     "data": {
      "text/plain": [
       "[MyBash Kernel] Info:copy to :/root/WSL/MyWSL_shell/ipydn/../../wsl_XWin_Cygwin/runv4tov4.sh\n"
      ]
     },
     "metadata": {
      "text/plain": {}
     },
     "output_type": "display_data"
    },
    {
     "data": {
      "text/plain": [
       "[MyBash Kernel] Info:file /root/WSL/MyWSL_shell/ipydn/src/runv4tov4.sh created successfully\n"
      ]
     },
     "metadata": {
      "text/plain": {}
     },
     "output_type": "display_data"
    }
   ],
   "source": [
    "##%noruncode\n",
    "##%overwritefile\n",
    "##%file:src/runv4tov4.sh\n",
    "##%file:../../WSL_GNOME/runv4tov4.sh\n",
    "##%file:../../wsl_XWin_Cygwin/runv4tov4.sh\n",
    "#! /bin/bash\n",
    "\n",
    "export localhost_ip=`ifconfig -a|grep inet|grep -v 127.0.0.1|grep -v inet6|awk '{print $2}'|tr -d addr:`\n",
    "echo $localhost_ip\n",
    "/mnt/c/WINDOWS/System32/cmd.exe /c \"netsh interface portproxy add v4tov4 listenport=8888 listenaddress=0.0.0.0 connectport=8888 connectaddress=$localhost_ip\" > /dev/null 2>&1 &\n"
   ]
  },
  {
   "cell_type": "code",
   "execution_count": 5,
   "metadata": {},
   "outputs": [
    {
     "data": {
      "text/plain": [
       "[MyBash Kernel] Info:copy to :/root/WSL/MyWSL_shell/ipydn/../../WSL_GNOME/setwsl2bridge.sh\n"
      ]
     },
     "metadata": {
      "text/plain": {}
     },
     "output_type": "display_data"
    },
    {
     "data": {
      "text/plain": [
       "[MyBash Kernel] Info:copy to :/root/WSL/MyWSL_shell/ipydn/../../wsl_XWin_Cygwin/setwsl2bridge.sh\n"
      ]
     },
     "metadata": {
      "text/plain": {}
     },
     "output_type": "display_data"
    },
    {
     "data": {
      "text/plain": [
       "[MyBash Kernel] Info:file /root/WSL/MyWSL_shell/ipydn/src/setwsl2bridge.sh created successfully\n"
      ]
     },
     "metadata": {
      "text/plain": {}
     },
     "output_type": "display_data"
    }
   ],
   "source": [
    "##%noruncode\n",
    "##%overwritefile\n",
    "##%file:src/setwsl2bridge.sh\n",
    "##%file:../../WSL_GNOME/setwsl2bridge.sh\n",
    "##%file:../../wsl_XWin_Cygwin/setwsl2bridge.sh\n",
    "#!/bin/sh\n",
    "# ###############################################\n",
    "# 设置 WSL2 网络为桥接模式 (Default use host WLAN)\n",
    "# Change WSL to bridge mode (Default use host WLAN)\n",
    "# ###############################################\n",
    "##export PATH=$PATH:/mnt/c/Windows/System32\n",
    "##export PATH=$PATH:/mnt/c/WINDOWS/System32/WindowsPowerShell/v1.0/\n",
    "##让WSL改变为网桥模式\n",
    "##Change WSL to bridge mode (Default use host WLAN)\n",
    "/mnt/c/WINDOWS/System32/WindowsPowerShell/v1.0/powershell.exe -command \"Set-VMSwitch WSL -NetAdapterName WLAN\" >  /dev/null 2>&1 \n",
    "##改变WSL默认IP地址 192.168.0.50\n",
    "##Change WSL default IP address 192.168.0.50\n",
    "/usr/bin/ip a flush dev eth0\n",
    "/usr/bin/ip addr add 192.168.0.50/24 broadcast 192.168.0.255 dev eth0\n",
    "##添加默认网关\n",
    "##Add default gateway\n",
    "/usr/bin/ip r add default via 192.168.0.2\n"
   ]
  },
  {
   "cell_type": "code",
   "execution_count": 6,
   "metadata": {},
   "outputs": [
    {
     "data": {
      "text/plain": [
       "[MyBash Kernel] Info:copy to :/root/WSL/MyWSL_shell/ipydn/../../WSL_GNOME/setresolv.sh\n"
      ]
     },
     "metadata": {
      "text/plain": {}
     },
     "output_type": "display_data"
    },
    {
     "data": {
      "text/plain": [
       "[MyBash Kernel] Info:copy to :/root/WSL/MyWSL_shell/ipydn/../../wsl_XWin_Cygwin/setresolv.sh\n"
      ]
     },
     "metadata": {
      "text/plain": {}
     },
     "output_type": "display_data"
    },
    {
     "data": {
      "text/plain": [
       "[MyBash Kernel] Info:file /root/WSL/MyWSL_shell/ipydn/src/setresolv.sh created successfully\n"
      ]
     },
     "metadata": {
      "text/plain": {}
     },
     "output_type": "display_data"
    }
   ],
   "source": [
    "##%noruncode\n",
    "##%overwritefile\n",
    "##%file:src/setresolv.sh\n",
    "##%file:../../WSL_GNOME/setresolv.sh\n",
    "##%file:../../wsl_XWin_Cygwin/setresolv.sh\n",
    "#!/bin/sh\n",
    "echo \"nameserver 192.168.0.2\">/etc/resolv.conf\n",
    "echo \"nameserver 61.128.128.68\">>/etc/resolv.conf\n",
    "echo \"nameserver 61.128.192.68\">>/etc/resolv.conf\n",
    "echo \"nameserver 114.114.114.114\">> /etc/resolv.conf\n",
    "echo \"nameserver 8.8.8.8\">>/etc/resolv.conf\n",
    "\n",
    "chmod 666 /etc/resolv.conf"
   ]
  }
 ],
 "metadata": {
  "kernelspec": {
   "display_name": "MyBash",
   "language": "shell",
   "name": "mybash"
  },
  "language_info": {
   "file_extension": ".sh",
   "mimetype": "text/x-shellscript",
   "name": "shell"
  },
  "orig_nbformat": 4
 },
 "nbformat": 4,
 "nbformat_minor": 2
}
