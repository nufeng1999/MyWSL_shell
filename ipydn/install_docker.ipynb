{
 "cells": [
  {
   "cell_type": "code",
   "execution_count": 2,
   "metadata": {},
   "outputs": [
    {
     "data": {
      "text/plain": [
       "[MyBash Kernel] Info:copy to :/root/WSL/MyWSL_shell/ipydn/../../WSL_GNOME/install_docker.sh\n"
      ]
     },
     "metadata": {
      "text/plain": {}
     },
     "output_type": "display_data"
    },
    {
     "data": {
      "text/plain": [
       "[MyBash Kernel] Info:copy to :/root/WSL/MyWSL_shell/ipydn/../../wsl_XWin_Cygwin/install_docker.sh\n"
      ]
     },
     "metadata": {
      "text/plain": {}
     },
     "output_type": "display_data"
    },
    {
     "data": {
      "text/plain": [
       "[MyBash Kernel] Info:file /root/WSL/MyWSL_shell/ipydn/src/install_docker.sh created successfully\n"
      ]
     },
     "metadata": {
      "text/plain": {}
     },
     "output_type": "display_data"
    }
   ],
   "source": [
    "## install_docker\n",
    "##%noruncode\n",
    "##%overwritefile\n",
    "##%file:src/install_docker.sh\n",
    "##%file:../../WSL_GNOME/install_docker.sh\n",
    "##%file:../../wsl_XWin_Cygwin/install_docker.sh\n",
    "#!/bin/bash\n",
    "apt remove docker docker-engine docker.io containerd runc\n",
    "apt install --no-install-recommends apt-transport-https ca-certificates curl gnupg2\n",
    "apt install docker-ce docker-ce-cli containerd.io\n",
    "\n",
    "DOCKER_DIR=/mnt/wsl/shared-docker\n",
    "mkdir -pm o=,ug=rwx \"$DOCKER_DIR\"\n",
    "##chgrp docker \"$DOCKER_DIR\"\n",
    "\n",
    "echo \"{\\\"hosts\\\": [\\\"unix:///mnt/wsl/shared-docker/docker.sock\\\"],\\\"iptables\\\": false}\">/etc/docker/daemon.json\n",
    "## run dockerd\n",
    "dockerd\n",
    "## run docker run --network=host --rm hello-world\n",
    "## alias docker='docker -H unix:///mnt/wsl/shared-docker/docker.sock'\n",
    "docker -H unix:///mnt/wsl/shared-docker/docker.sock run --rm hello-world\n"
   ]
  },
  {
   "cell_type": "code",
   "execution_count": null,
   "metadata": {},
   "outputs": [],
   "source": []
  }
 ],
 "metadata": {
  "kernelspec": {
   "display_name": "MyBash",
   "language": "shell",
   "name": "mybash"
  },
  "language_info": {
   "file_extension": ".sh",
   "mimetype": "text/x-shellscript",
   "name": "shellscript"
  },
  "orig_nbformat": 4
 },
 "nbformat": 4,
 "nbformat_minor": 2
}
