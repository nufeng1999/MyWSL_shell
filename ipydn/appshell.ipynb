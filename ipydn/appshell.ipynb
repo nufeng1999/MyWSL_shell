{
 "cells": [
  {
   "cell_type": "code",
   "execution_count": 2,
   "metadata": {},
   "outputs": [
    {
     "data": {
      "text/plain": [
       "[MyBash Kernel] Info:copy to :/root/WSL/MyWSL_shell/ipydn/../../WSL_GNOME/wslterminator.sh\n"
      ]
     },
     "metadata": {
      "text/plain": {}
     },
     "output_type": "display_data"
    },
    {
     "data": {
      "text/plain": [
       "[MyBash Kernel] Info:copy to :/root/WSL/MyWSL_shell/ipydn/../../wsl_XWin_Cygwin/wslterminator.sh\n"
      ]
     },
     "metadata": {
      "text/plain": {}
     },
     "output_type": "display_data"
    },
    {
     "data": {
      "text/plain": [
       "[MyBash Kernel] Info:file /root/WSL/MyWSL_shell/ipydn/src/wslterminator.sh created successfully\n"
      ]
     },
     "metadata": {
      "text/plain": {}
     },
     "output_type": "display_data"
    }
   ],
   "source": [
    "## wslterminator\n",
    "##%noruncode\n",
    "##%overwritefile\n",
    "##%file:src/wslterminator.sh\n",
    "##%file:../../WSL_GNOME/wslterminator.sh\n",
    "##%file:../../wsl_XWin_Cygwin/wslterminator.sh\n",
    "\n",
    "#!/bin/sh\n",
    "## export DISPLAY=127.0.0.1:0.0\n",
    "##/root/wslfcitx.sh\n",
    "##/usr/bin/fcitx -d -r 2>/dev/null &\n",
    "## export DISPLAY=127.0.0.1:0.0\n",
    "## export NO_AT_BRIDGE=1\n",
    "\n",
    "## export LC_CTYPE=zh_CN.UTF-8\n",
    "## export XMODIFIERS=@im=ibus\n",
    "## export GTK_IM_MODULE=ibus\n",
    "## export QT_IM_MODULE=ibus\n",
    "## ibus-daemon  --address='tcp:host=localhost,port=0' -d -r -x -R 2>/dev/null &\n",
    "\n",
    "/usr/bin/gnome-terminal 2>/dev/null &\n"
   ]
  },
  {
   "cell_type": "code",
   "execution_count": 2,
   "metadata": {},
   "outputs": [
    {
     "data": {
      "text/plain": [
       "[MyBash Kernel] Info:copy to :/root/WSL/MyWSL_shell/ipydn/../../WSL_GNOME/vscode.sh\n"
      ]
     },
     "metadata": {
      "text/plain": {}
     },
     "output_type": "display_data"
    },
    {
     "data": {
      "text/plain": [
       "[MyBash Kernel] Info:copy to :/root/WSL/MyWSL_shell/ipydn/../../wsl_XWin_Cygwin/vscode.sh\n"
      ]
     },
     "metadata": {
      "text/plain": {}
     },
     "output_type": "display_data"
    },
    {
     "data": {
      "text/plain": [
       "[MyBash Kernel] Info:file /root/WSL/MyWSL_shell/ipydn/src/vscode.sh created successfully\n"
      ]
     },
     "metadata": {
      "text/plain": {}
     },
     "output_type": "display_data"
    }
   ],
   "source": [
    "## vscode\n",
    "##%noruncode\n",
    "##%overwritefile\n",
    "##%file:src/vscode.sh\n",
    "##%file:../../WSL_GNOME/vscode.sh\n",
    "##%file:../../wsl_XWin_Cygwin/vscode.sh\n",
    "#! /bin/bash\n",
    "\n",
    "dbus-launch /usr/bin/code --user-data-dir  --no-sandbox $1 >/dev/null 2>&1 &\n",
    "\n"
   ]
  },
  {
   "cell_type": "code",
   "execution_count": 3,
   "metadata": {},
   "outputs": [
    {
     "data": {
      "text/plain": [
       "[MyBash Kernel] Info:copy to :/root/WSL/MyWSL_shell/ipydn/../../WSL_GNOME/startjupyter-lab.sh\n"
      ]
     },
     "metadata": {
      "text/plain": {}
     },
     "output_type": "display_data"
    },
    {
     "data": {
      "text/plain": [
       "[MyBash Kernel] Info:copy to :/root/WSL/MyWSL_shell/ipydn/../../wsl_XWin_Cygwin/startjupyter-lab.sh\n"
      ]
     },
     "metadata": {
      "text/plain": {}
     },
     "output_type": "display_data"
    },
    {
     "data": {
      "text/plain": [
       "[MyBash Kernel] Info:file /root/WSL/MyWSL_shell/ipydn/src/startjupyter-lab.sh created successfully\n"
      ]
     },
     "metadata": {
      "text/plain": {}
     },
     "output_type": "display_data"
    }
   ],
   "source": [
    "## startjupyter-lab\n",
    "##%noruncode\n",
    "##%overwritefile\n",
    "##%file:src/startjupyter-lab.sh\n",
    "##%file:../../WSL_GNOME/startjupyter-lab.sh\n",
    "##%file:../../wsl_XWin_Cygwin/startjupyter-lab.sh\n",
    "#!/bin/bash\n",
    "cd ~/Jupyter\n",
    "PROC_NAME=jupyter-lab\n",
    "ProcNumber=`ps -ef |grep -w $PROC_NAME|grep -v grep|wc -l`\n",
    "#echo $ProcNumber\n",
    "if [ $ProcNumber -le 0 ];then\n",
    "\techo \"--->run jupyter-lab<---\"\n",
    "\t/usr/local/bin/jupyter-lab  --ip=0.0.0.0 --allow-root --autoreload > /dev/null 2>&1 &\n",
    "fi\n",
    "export localhost_ip=`ifconfig -a|grep inet|grep -v 127.0.0.1|grep -v inet6|awk '{print $2}'|tr -d addr:`\n",
    "echo $localhost_ip\n",
    "/mnt/c/WINDOWS/System32/cmd.exe /c \"netsh interface portproxy add v4tov4 listenport=8888 listenaddress=0.0.0.0 connectport=8888 connectaddress=$localhost_ip\" > /dev/null 2>&1 &\n",
    "\n"
   ]
  },
  {
   "cell_type": "code",
   "execution_count": 1,
   "metadata": {},
   "outputs": [
    {
     "data": {
      "text/plain": [
       "[MyBash Kernel] Info:copy to :/root/WSL/MyWSL_shell/ipydn/../../WSL_GNOME/docker-service.sh\n"
      ]
     },
     "metadata": {
      "text/plain": {}
     },
     "output_type": "display_data"
    },
    {
     "data": {
      "text/plain": [
       "[MyBash Kernel] Info:copy to :/root/WSL/MyWSL_shell/ipydn/../../wsl_XWin_Cygwin/docker-service.sh\n"
      ]
     },
     "metadata": {
      "text/plain": {}
     },
     "output_type": "display_data"
    },
    {
     "data": {
      "text/plain": [
       "[MyBash Kernel] Info:file /root/WSL/MyWSL_shell/ipydn/src/docker-service.sh created successfully\n"
      ]
     },
     "metadata": {
      "text/plain": {}
     },
     "output_type": "display_data"
    }
   ],
   "source": [
    "## docker-service\n",
    "##%noruncode\n",
    "##%overwritefile\n",
    "##%file:src/docker-service.sh\n",
    "##%file:../../WSL_GNOME/docker-service.sh\n",
    "##%file:../../wsl_XWin_Cygwin/docker-service.sh\n",
    "#!/bin/bash\n",
    "DOCKER_DISTRO=\"Ubuntu\"\n",
    "DOCKER_DIR=/mnt/wsl/shared-docker\n",
    "DOCKER_SOCK=\"$DOCKER_DIR/docker.sock\"\n",
    "export DOCKER_HOST=\"unix://$DOCKER_SOCK\"\n",
    "if [ ! -S \"$DOCKER_SOCK\" ]; then\n",
    "    mkdir -pm o=,ug=rwx \"$DOCKER_DIR\"\n",
    "    ##chgrp docker \"$DOCKER_DIR\"\n",
    "    /mnt/c/Windows/System32/wsl.exe -u root -d $DOCKER_DISTRO sh -c \"nohup sudo -b dockerd < /dev/null > $DOCKER_DIR/dockerd.log 2>&1\"\n",
    "fi"
   ]
  },
  {
   "cell_type": "code",
   "execution_count": null,
   "metadata": {},
   "outputs": [],
   "source": []
  }
 ],
 "metadata": {
  "kernelspec": {
   "display_name": "MyBash",
   "language": "shell",
   "name": "mybash"
  },
  "language_info": {
   "file_extension": ".sh",
   "mimetype": "text/x-shellscript",
   "name": "shellscript"
  },
  "orig_nbformat": 4
 },
 "nbformat": 4,
 "nbformat_minor": 2
}
