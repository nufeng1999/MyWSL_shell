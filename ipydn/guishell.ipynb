{
 "cells": [
  {
   "cell_type": "code",
   "execution_count": 1,
   "metadata": {},
   "outputs": [
    {
     "data": {
      "text/plain": [
       "[MyBash Kernel] Info:copy to :/root/WSL/MyWSL_shell/ipydn/../../WSL_GNOME/setguienv.sh\n"
      ]
     },
     "metadata": {
      "text/plain": {}
     },
     "output_type": "display_data"
    },
    {
     "data": {
      "text/plain": [
       "[MyBash Kernel] Info:copy to :/root/WSL/MyWSL_shell/ipydn/../../wsl_XWin_Cygwin/setguienv.sh\n"
      ]
     },
     "metadata": {
      "text/plain": {}
     },
     "output_type": "display_data"
    },
    {
     "data": {
      "text/plain": [
       "[MyBash Kernel] Info:file /root/WSL/MyWSL_shell/ipydn/src/setguienv.sh created successfully\n"
      ]
     },
     "metadata": {
      "text/plain": {}
     },
     "output_type": "display_data"
    }
   ],
   "source": [
    "##%noruncode\n",
    "##%overwritefile\n",
    "##%file:src/setguienv.sh\n",
    "##%file:../../WSL_GNOME/setguienv.sh\n",
    "##%file:../../wsl_XWin_Cygwin/setguienv.sh\n",
    "#!/bin/bash\n",
    "\n",
    "##设置DNS\n",
    ". /usr/bin/setresolv.sh\n",
    "alias code='echo \"yes\"|dbus-launch /usr/bin/code --user-data-dir  --no-sandbox'\n",
    "cd ~\n",
    "export DONT_PROMPT_WSL_INSTALL=1\n",
    "export LANG=zh_CN.UTF-8\n",
    "export LC_ALL=zh_CN.UTF-8\n",
    "export LC_LANG=zh_CN.UTF-8\n",
    "export LC_CTYPE=zh_CN.UTF-8\n",
    "export NO_AT_BRIDGE=1\n",
    "\n",
    "export LIBGL_ALWAYS_INDIRECT=\n",
    "export GDK_THEME=\n",
    "export XDG_SESSION_TYPE=\"x11\"\n",
    "##export GDK_SCALE=2\n",
    "##export GDK_DPI_SCALE=1\n",
    "##export ELM_SCALE=2\n",
    "##export QT_SCALE_FACTOR=1\n",
    "##export QT_FONT_DPI=144\n",
    "##export QT_STYLE_OVERRIDE=adwaita\n",
    "export QT_QPA_PLATFORMTHEME=gtk2\n",
    "export DESKTOP_SESSION=gnome\n",
    "\n",
    "##GDK_SYNCHRONIZE\n",
    "##GDK_CORE_DEVICE_EVENTS\n",
    "\n",
    "##GTK_PATH\n",
    "##GDK_DEBUG\n",
    "##GTK_EXE_PREFIX\n",
    "##GTK_DATA_PREFIX\n",
    "##export GTK_THEME=Adwaita-dark\n",
    "##export GTK_CURSOR_SIZE=48\n",
    "##export GTK_THEME=Greybird-dark\n",
    "\n",
    "##设置 宿主机 IP 和 其它服务地址\n",
    "##export HOSTIP=`nslookup w541|sed -n \"1, 1p\"|awk '{print $2}'`\n",
    "export HOSTIP=$(ip route | awk '/^default/{print $3; exit}')\n",
    "export DISPLAY=$HOSTIP:0.0\n",
    "export PULSE_SERVER=tcp:$HOSTIP\n",
    "\n",
    "local_ip=`/sbin/ifconfig -a|grep inet|grep -v 127.0.0.1|grep -v inet6|awk '{print $2}'|tr -d \"addr:\"`\n",
    "local_hostname=`hostname`\n",
    "/mnt/c/WINDOWS/System32/cmd.exe /C setx WSLHOSTIP $local_ip  >  /dev/null 2>&1 \n",
    "##update Windows C:\\Windows\\System32\\drivers\\etc\\hosts hostname \n",
    "sed -i \"/ $local_hostname/d\" /mnt/c/WINDOWS/System32/drivers/etc/hosts\n",
    "echo \"$local_ip $local_hostname \" >>/mnt/c/WINDOWS/System32/drivers/etc/hosts\n",
    "\n",
    "\n",
    "##DESKTOP_STARTUP_ID\n",
    "##XDG_DATA_HOME\n",
    "##XDG_DATA_DIRS\n",
    "##GTK_OVERLAY_SCROLLING\n",
    "##GTK_CSD\n",
    "##GDK_BACKEND\n",
    "##GDK_RENDERING\n",
    "##GDK_PIXBUF_MODULE_FILE\n",
    "\n",
    "##export GTK_IM_MODULE=ibus\n",
    "##export GTK_IM_MODULE_FILE\n",
    "##export XMODIFIERS=@im=ibus\n",
    "##export QT_IM_MODULE=ibus\n",
    "##export XIM_PROGRAM=\"ibus-daemon\"\n",
    "\n",
    "export XMODIFIERS=@im=fcitx\n",
    "export GTK_IM_MODULE=fcitx\n",
    "export QT_IM_MODULE=fcitx\n",
    "\n",
    "export PATH=/opt/dart-sdk/bin:/opt/flutter/bin:$PATH\n",
    "alias reboot='sudo /usr/bin/reboot'\n",
    "\n",
    "##判断 fcitx 是否启动\n",
    "ps -fe|grep fcitx |grep -v grep > /dev/null\n",
    "if [ $? -eq 0 ]; then  \n",
    "    return\n",
    "fi\n",
    "/usr/bin/wslfcitx\n",
    "/usr/bin/startXServer\n"
   ]
  },
  {
   "cell_type": "code",
   "execution_count": 2,
   "metadata": {},
   "outputs": [
    {
     "data": {
      "text/plain": [
       "[MyBash Kernel] Info:copy to :/root/WSL/MyWSL_shell/ipydn/../../WSL_GNOME/startwslX.sh\n"
      ]
     },
     "metadata": {
      "text/plain": {}
     },
     "output_type": "display_data"
    },
    {
     "data": {
      "text/plain": [
       "[MyBash Kernel] Info:copy to :/root/WSL/MyWSL_shell/ipydn/../../wsl_XWin_Cygwin/startwslX.sh\n"
      ]
     },
     "metadata": {
      "text/plain": {}
     },
     "output_type": "display_data"
    },
    {
     "data": {
      "text/plain": [
       "[MyBash Kernel] Info:file /root/WSL/MyWSL_shell/ipydn/src/startwslX.sh created successfully\n"
      ]
     },
     "metadata": {
      "text/plain": {}
     },
     "output_type": "display_data"
    }
   ],
   "source": [
    "##%noruncode\n",
    "##%overwritefile\n",
    "##%file:src/startwslX.sh\n",
    "##%file:../../WSL_GNOME/startwslX.sh\n",
    "##%file:../../wsl_XWin_Cygwin/startwslX.sh\n",
    "#!/bin/sh\n",
    "/mnt/c/WINDOWS/System32/cmd.exe /c \"C:\\\\XWin_Cygwin.cmd 0\" > /dev/null 2>&1 &\n",
    "/usr/bin/sleep 3\n",
    "/usr/bin/wslpanel\n"
   ]
  },
  {
   "cell_type": "code",
   "execution_count": 6,
   "metadata": {},
   "outputs": [
    {
     "data": {
      "text/plain": [
       "[MyBash Kernel] Info:copy to :/mnt/h/Jupyter/WSL/WSL_GNOME/ipydn/../startXServer.sh\n"
      ]
     },
     "metadata": {
      "text/plain": {}
     },
     "output_type": "display_data"
    },
    {
     "data": {
      "text/plain": [
       "[MyBash Kernel] Info:file /mnt/h/Jupyter/WSL/WSL_GNOME/ipydn/src/startXServer.sh created successfully\n"
      ]
     },
     "metadata": {
      "text/plain": {}
     },
     "output_type": "display_data"
    }
   ],
   "source": [
    "##%noruncode\n",
    "##%overwritefile\n",
    "##%file:src/startXServer.sh\n",
    "##%file:../../WSL_GNOME/startXServer.sh\n",
    "##%file:../../wsl_XWin_Cygwin/startXServer.sh\n",
    "#!/bin/bash\n",
    "\n",
    "PROC_NAME=XWin\n",
    "ProcNumber=`/mnt/c/WINDOWS/System32/cmd.exe /c tasklist  2>/dev/null |grep -w $PROC_NAME|grep -v grep|wc -l`\n",
    "if [ $ProcNumber -le 0 ];then\n",
    "\n",
    "\t/mnt/c/WINDOWS/System32/cmd.exe /c \"C:\\\\XWin_Cygwin.cmd 0\" > /dev/null 2>&1 &\n",
    "\t/usr/bin/sleep 6s\n",
    "fi\n"
   ]
  },
  {
   "cell_type": "code",
   "execution_count": 7,
   "metadata": {},
   "outputs": [
    {
     "data": {
      "text/plain": [
       "[MyBash Kernel] Info:copy to :/mnt/h/Jupyter/WSL/WSL_GNOME/ipydn/../wslstartxfce4.sh\n"
      ]
     },
     "metadata": {
      "text/plain": {}
     },
     "output_type": "display_data"
    },
    {
     "data": {
      "text/plain": [
       "[MyBash Kernel] Info:file /mnt/h/Jupyter/WSL/WSL_GNOME/ipydn/src/wslstartxfce4.sh created successfully\n"
      ]
     },
     "metadata": {
      "text/plain": {}
     },
     "output_type": "display_data"
    }
   ],
   "source": [
    "##%noruncode\n",
    "##%overwritefile\n",
    "##%file:src/wslstartxfce4.sh\n",
    "##%file:../../WSL_GNOME/wslstartxfce4.sh\n",
    "##%file:../../wsl_XWin_Cygwin/wslstartxfce4.sh\n",
    "#! /bin/sh\n",
    "##/root/wslfcitx.sh\n",
    "##export DISPLAY=127.0.0.1:0.0\n",
    "##export DISPLAY=192.168.0.152:0.0\n",
    "export PULSE_SERVER=tcp:$HOSTIP\n",
    "export NO_AT_BRIDGE=1\n",
    "export LC_CTYPE=zh_CN.UTF-8\n",
    "##设置输入法\n",
    "export XMODIFIERS=@im=fcitx\n",
    "export GTK_IM_MODULE=fcitx\n",
    "export QT_IM_MODULE=fcitx\n",
    "\n",
    "export LIBGL_ALWAYS_SOFTWARE=1\n",
    "export LIBGL_ALWAYS_INDIRECT=1\n",
    "##cd /mnt/h/ISwitch\n",
    "##./ISwitch.exe  -c -w &\n",
    "cd\n",
    "##启动输入法\n",
    "##/usr/bin/fcitx -d -r 2>/dev/null &\n",
    "##启动桌面环境\n",
    "/usr/bin/startxfce4 >/dev/null 2>&1 &\n"
   ]
  },
  {
   "cell_type": "code",
   "execution_count": 1,
   "metadata": {},
   "outputs": [
    {
     "data": {
      "text/plain": [
       "[MyBash Kernel] Info:copy to :/root/WSL/MyWSL_shell/ipydn/../../WSL_GNOME/wslpanel.sh\n"
      ]
     },
     "metadata": {
      "text/plain": {}
     },
     "output_type": "display_data"
    },
    {
     "data": {
      "text/plain": [
       "[MyBash Kernel] Info:copy to :/root/WSL/MyWSL_shell/ipydn/../../wsl_XWin_Cygwin/wslpanel.sh\n"
      ]
     },
     "metadata": {
      "text/plain": {}
     },
     "output_type": "display_data"
    },
    {
     "data": {
      "text/plain": [
       "[MyBash Kernel] Info:file /root/WSL/MyWSL_shell/ipydn/src/wslpanel.sh created successfully\n"
      ]
     },
     "metadata": {
      "text/plain": {}
     },
     "output_type": "display_data"
    }
   ],
   "source": [
    "##%noruncode\n",
    "##%overwritefile\n",
    "##%file:src/wslpanel.sh\n",
    "##%file:../../WSL_GNOME/wslpanel.sh\n",
    "##%file:../../wsl_XWin_Cygwin/wslpanel.sh\n",
    "#!/bin/sh\n",
    "/usr/bin/wslfcitx.sh\n",
    "/usr/bin/xfce4-panel > /dev/null 2>&1 &\n"
   ]
  },
  {
   "cell_type": "code",
   "execution_count": 9,
   "metadata": {},
   "outputs": [
    {
     "data": {
      "text/plain": [
       "[MyBash Kernel] Info:copy to :/mnt/h/Jupyter/WSL/WSL_GNOME/ipydn/../startgnome.sh\n"
      ]
     },
     "metadata": {
      "text/plain": {}
     },
     "output_type": "display_data"
    },
    {
     "data": {
      "text/plain": [
       "[MyBash Kernel] Info:file /mnt/h/Jupyter/WSL/WSL_GNOME/ipydn/src/startgnome.sh created successfully\n"
      ]
     },
     "metadata": {
      "text/plain": {}
     },
     "output_type": "display_data"
    }
   ],
   "source": [
    "##%noruncode\n",
    "##%overwritefile\n",
    "##%file:src/startgnome.sh\n",
    "##%file:../../WSL_GNOME/startgnome.sh\n",
    "##%file:../../wsl_XWin_Cygwin/startgnome.sh\n",
    "#!/bin/sh\n",
    "#/mnt/c/WINDOWS/System32/cmd.exe /c \"C:\\\\XWin_Cygwin.cmd 1\" > /dev/null 2>&1 &\n",
    "#/usr/bin/sleep 6s\n",
    "\n",
    "export DONT_PROMPT_WSL_INSTALL=1\n",
    "export LANG=zh_CN.UTF-8\n",
    "export LC_ALL=zh_CN.UTF-8\n",
    "export LC_LANG=zh_CN.UTF-8\n",
    "\n",
    "export LIBGL_ALWAYS_INDIRECT=\n",
    "export GDK_THEME=\n",
    "export XDG_SESSION_TYPE=\"x11\"\n",
    "export GDK_SCALE=\n",
    "export GDK_DPI_SCALE=\n",
    "export ELM_SCALE=\n",
    "export QT_SCALE_FACTOR=1.2\n",
    "export QT_FONT_DPI=144\n",
    "#export QT_STYLE_OVERRIDE=adwaita\n",
    "export QT_QPA_PLATFORMTHEME=gtk4\n",
    "export DESKTOP_SESSION=gnome\n",
    "\n",
    "/usr/bin/gnome-session >/dev/null 2>&1 &\n"
   ]
  },
  {
   "cell_type": "code",
   "execution_count": 10,
   "metadata": {},
   "outputs": [
    {
     "data": {
      "text/plain": [
       "[MyBash Kernel] Info:copy to :/mnt/h/Jupyter/WSL/WSL_GNOME/ipydn/../startplasma.sh\n"
      ]
     },
     "metadata": {
      "text/plain": {}
     },
     "output_type": "display_data"
    },
    {
     "data": {
      "text/plain": [
       "[MyBash Kernel] Info:file /mnt/h/Jupyter/WSL/WSL_GNOME/ipydn/src/startplasma.sh created successfully\n"
      ]
     },
     "metadata": {
      "text/plain": {}
     },
     "output_type": "display_data"
    }
   ],
   "source": [
    "##%noruncode\n",
    "##%overwritefile\n",
    "##%file:src/startplasma.sh\n",
    "##%file:../../WSL_GNOME/startplasma.sh\n",
    "##%file:../../wsl_XWin_Cygwin/startplasma.sh\n",
    "#!/bin/sh\n",
    "#/mnt/c/WINDOWS/System32/cmd.exe /c \"C:\\\\XWin_Cygwin.cmd 1\" > /dev/null 2>&1 &\n",
    "#/usr/bin/sleep 6s\n",
    "\n",
    "export DONT_PROMPT_WSL_INSTALL=1\n",
    "export LANG=zh_CN.UTF-8\n",
    "export LC_ALL=zh_CN.UTF-8\n",
    "export LC_LANG=zh_CN.UTF-8\n",
    "\n",
    "export LIBGL_ALWAYS_INDIRECT=\n",
    "export GDK_THEME=\n",
    "export XDG_SESSION_TYPE=\"x11\"\n",
    "export GDK_SCALE=1\n",
    "export GDK_DPI_SCALE=1\n",
    "export ELM_SCALE=1\n",
    "export QT_SCALE_FACTOR=1.2\n",
    "export QT_FONT_DPI=144\n",
    "#export QT_STYLE_OVERRIDE=adwaita\n",
    "export QT_QPA_PLATFORMTHEME=gtk4\n",
    "export DESKTOP_SESSION=gnome\n",
    "\n",
    "/usr/bin/plasma_session >/dev/null 2>&1 &\n"
   ]
  }
 ],
 "metadata": {
  "kernelspec": {
   "display_name": "MyBash",
   "language": "shell",
   "name": "mybash"
  },
  "language_info": {
   "file_extension": ".sh",
   "mimetype": "text/x-shellscript",
   "name": "shellscript"
  },
  "orig_nbformat": 4
 },
 "nbformat": 4,
 "nbformat_minor": 2
}
