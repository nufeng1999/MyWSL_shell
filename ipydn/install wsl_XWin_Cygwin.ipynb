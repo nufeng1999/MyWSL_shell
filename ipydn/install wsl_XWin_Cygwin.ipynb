{
 "cells": [
  {
   "cell_type": "code",
   "execution_count": 1,
   "metadata": {},
   "outputs": [
    {
     "data": {
      "text/plain": [
       "[MyBash Kernel] Info:copy to :/root/WSL/MyWSL_shell/ipydn/../../wsl_XWin_Cygwin/install.sh\n"
      ]
     },
     "metadata": {
      "text/plain": {}
     },
     "output_type": "display_data"
    },
    {
     "data": {
      "text/plain": [
       "[MyBash Kernel] Info:file /root/WSL/MyWSL_shell/ipydn/src/install2.sh created successfully\n"
      ]
     },
     "metadata": {
      "text/plain": {}
     },
     "output_type": "display_data"
    }
   ],
   "source": [
    "##%noruncode\n",
    "##%overwritefile\n",
    "##%file:src/install2.sh\n",
    "##%file:../../wsl_XWin_Cygwin/install.sh\n",
    "#!/bin/bash\n",
    "#install cygwin XServer\n",
    "wintemp=`/mnt/c/WINDOWS/System32/cmd.exe /c \"echo %TEMP%\" 2>/dev/null|head -n 1 |tail -n 1`\n",
    "winwsltemp=`wslpath -u $wintemp`\n",
    "winwsltemp=${winwsltemp//$'\\r'}\n",
    "winwsltemp=${winwsltemp//$'\\n'}\n",
    "cygwininstallfile=`echo $winwsltemp/cygwin-install.bat`\n",
    "cp $PWD/cygwin-auto-install/cygwin-install.bat $cygwininstallfile\n",
    "\n",
    "cp $PWD/ucrtbase.dll /mnt/c/WINDOWS/System32/\n",
    "cp $PWD/ucrtbased.dll /mnt/c/WINDOWS/System32/\n",
    "cp $PWD/vcruntime140.dll /mnt/c/WINDOWS/System32/\n",
    "cp $PWD/vcruntime140d.dll /mnt/c/WINDOWS/System32/\n",
    "\n",
    "/mnt/c/WINDOWS/System32/cmd.exe /c \"$wintemp\\\\cygwin-install.bat\"\n",
    "##create a link\n",
    "ln -sf $PWD/setguienv.sh /usr/bin/setguienv\n",
    "ln -sf $PWD/setproxy.sh /usr/bin/setproxy\n",
    "ln -sf $PWD/unsetproxy.sh /usr/bin/unsetproxy\n",
    "ln -sf $PWD/startwslX.sh /usr/bin/startwslX\n",
    "ln -sf $PWD/startXServer.sh /usr/bin/startXServer\n",
    "\n",
    "ln -sf $PWD/wslfcitx.sh /usr/bin/wslfcitx\n",
    "ln -sf $PWD/wslibus.sh /usr/bin/wslibus\n",
    "ln -sf $PWD/wslpanel.sh /usr/bin/wslpanel\n",
    "ln -sf $PWD/wslstartxfce4.sh /usr/bin/wslstartxfce4\n",
    "ln -sf $PWD/wslterminator.sh /usr/bin/wslterminator\n",
    "\n",
    "ln -sf $PWD/setwsl2bridge.sh  /usr/bin/setwsl2bridge\n",
    "ln -sf $PWD/00-wsl2-systemd.sh  /usr/bin/wsl2-systemd\n",
    "ln -sf $PWD/setresolv.sh /usr/bin/setresolv.sh \n",
    "ln -sf $PWD/restartudev.sh /usr/bin/restartudev\n",
    "ln -sf $PWD/docker-service.sh /usr/bin/docker-service\n",
    "\n",
    "chmod +x /usr/bin/setguienv\n",
    "chmod +x /usr/bin/setproxy\n",
    "chmod +x /usr/bin/unsetproxy\n",
    "chmod +x /usr/bin/startwslX\n",
    "chmod +x /usr/bin/startXServer\n",
    "\n",
    "chmod +x /usr/bin/wslfcitx\n",
    "chmod +x /usr/bin/wslibus\n",
    "chmod +x /usr/bin/wslpanel\n",
    "chmod +x /usr/bin/wslstartxfce4\n",
    "chmod +x /usr/bin/wslterminator\n",
    "\n",
    "chmod +x /usr/bin/setwsl2bridge\n",
    "chmod +x /usr/bin/wsl2-systemd\n",
    "chmod +x /usr/bin/setresolv.sh \n",
    "chmod +x /usr/bin/restartudev\n",
    "chmod +x /usr/bin/docker-service\n",
    "\n",
    "/mnt/c/WINDOWS/System32/cmd.exe /c \"taskkill /F /IM ISwitch.exe\" > /dev/null 2>&1\n",
    "mkdir -p /mnt/c/ISwitch\n",
    "cp -f $PWD/ISwitch* /mnt/c/ISwitch/ > /dev/null 2>&1\n",
    "cp -f $PWD/XWin_Cygwin.cmd /mnt/c/XWin_Cygwin.cmd > /dev/null 2>&1\n",
    "\n",
    "INCLUDENumber=`grep -i \"setguienv\" ~/.bashrc|wc -l`\n",
    "if [ $INCLUDENumber -le 0 ];then\n",
    "\n",
    "\techo '. /usr/bin/setguienv' >> ~/.bashrc\n",
    "\n",
    "fi\n",
    "\n"
   ]
  },
  {
   "cell_type": "code",
   "execution_count": null,
   "metadata": {},
   "outputs": [],
   "source": []
  }
 ],
 "metadata": {
  "kernelspec": {
   "display_name": "MyBash",
   "language": "shell",
   "name": "mybash"
  },
  "language_info": {
   "file_extension": ".sh",
   "mimetype": "text/x-shellscript",
   "name": "shellscript"
  },
  "orig_nbformat": 4
 },
 "nbformat": 4,
 "nbformat_minor": 2
}
